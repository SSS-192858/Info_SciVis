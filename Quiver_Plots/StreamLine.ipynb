{
 "cells": [
  {
   "cell_type": "code",
   "execution_count": 11,
   "metadata": {},
   "outputs": [],
   "source": [
    "import pandas as pd;\n",
    "import numpy as np;\n",
    "import matplotlib.pyplot as plt;\n",
    "import glob;\n",
    "import cartopy.crs as ccrs\n",
    "import re\n",
    "from matplotlib.animation import FuncAnimation\n",
    "from PIL import Image\n",
    "BAD_FLAG = -1.e+34"
   ]
  },
  {
   "cell_type": "code",
   "execution_count": 12,
   "metadata": {},
   "outputs": [
    {
     "name": "stdout",
     "output_type": "stream",
     "text": [
      "['./Data/Zonal/May30-2013Z.txt', './Data/Zonal/Jun30-2013Z.txt', './Data/Zonal/Jul15-2013Z.txt', './Data/Zonal/Jul31-2013Z.txt', './Data/Zonal/Aug31-2013Z.txt']\n",
      "['./Data/Meridonal/May30-2013M.txt', './Data/Meridonal/Jun30-2013M.txt', './Data/Meridonal/Jul15-2013M.txt', './Data/Meridonal/Jul31-2013M.txt', './Data/Meridonal/Aug31-2013M.txt']\n"
     ]
    }
   ],
   "source": [
    "files_zonal = ['./Data/Zonal/May30-2013Z.txt','./Data/Zonal/Jun30-2013Z.txt','./Data/Zonal/Jul15-2013Z.txt','./Data/Zonal/Jul31-2013Z.txt','./Data/Zonal/Aug31-2013Z.txt']\n",
    "files_meridonal = ['./Data/Meridonal/May30-2013M.txt','./Data/Meridonal/Jun30-2013M.txt', './Data/Meridonal/Jul15-2013M.txt', './Data/Meridonal/Jul31-2013M.txt',  './Data/Meridonal/Aug31-2013M.txt']\n",
    "df_list_M = []\n",
    "df_list_Z = []\n",
    "print(files_zonal)\n",
    "print(files_meridonal)"
   ]
  },
  {
   "cell_type": "code",
   "execution_count": 13,
   "metadata": {},
   "outputs": [],
   "source": [
    "def read_dataset(name):\n",
    "\n",
    "    f = open(name)\n",
    "    lines = f.readlines()\n",
    "    lines = lines[7:]\n",
    "\n",
    "    splitted_dict = {}\n",
    "\n",
    "    for i in lines:\n",
    "        i = i.strip()\n",
    "        line = re.split(r'[\\t\\n]',i)\n",
    "        # print(line)\n",
    "        if (line[-1].find(\"** line too long **\") or line[-1] == \"** line too long **\"):\n",
    "            line.pop() \n",
    "        \n",
    "        temp = []\n",
    "        for j in range(1, len(line)):\n",
    "            if float(line[j]) == BAD_FLAG:\n",
    "                temp.append(0)\n",
    "            else:\n",
    "                temp.append(float(line[j]))\n",
    "            \n",
    "        splitted_dict[line[0]] = temp\n",
    "\n",
    "    rain = []\n",
    "    for i in splitted_dict.keys():\n",
    "        temp = []\n",
    "        j = 0\n",
    "        while (j<len(splitted_dict[i])):\n",
    "            temp.append(splitted_dict[i][j])\n",
    "            j+=1\n",
    "        while (j<720):\n",
    "            temp.append(0)\n",
    "            j+=1\n",
    "        rain.append(temp)\n",
    "        \n",
    "    if len(lines)<360:\n",
    "        for i in range(0,360-len(lines)):\n",
    "            temp = [0]*720\n",
    "            rain.append(temp)\n",
    "    \n",
    "    rain = np.array(rain)\n",
    "    return rain"
   ]
  },
  {
   "cell_type": "code",
   "execution_count": 14,
   "metadata": {},
   "outputs": [],
   "source": [
    "for i in files_meridonal:\n",
    "    df_list_M.append(read_dataset(i))\n",
    "\n",
    "for i in files_zonal:\n",
    "    df_list_Z.append(read_dataset(i))"
   ]
  },
  {
   "cell_type": "code",
   "execution_count": 15,
   "metadata": {},
   "outputs": [],
   "source": [
    "dfm = pd.read_table('./Data/Meridonal/Jul31-2013M.txt',header=6)"
   ]
  },
  {
   "cell_type": "code",
   "execution_count": 16,
   "metadata": {},
   "outputs": [],
   "source": [
    "longitudes = dfm.columns\n",
    "latitudes = dfm[longitudes[0]]\n",
    "longitudes = list(longitudes[1:])\n",
    "longitudes.pop()\n",
    "latitude_values = []\n",
    "longitude_values =[]\n",
    "for i in latitudes:\n",
    "    for j in longitudes:\n",
    "        if 'E' in j:\n",
    "            j.replace(\" \",\"\")\n",
    "            longitude_values.append(float(j.replace('E',\"\")))\n",
    "        else:\n",
    "            j.replace(\" \",\"\")\n",
    "            longitude_values.append(-1*float(j.replace('W',\"\")))\n",
    "        if 'S' in i:\n",
    "            i.replace(\" \",\"\")\n",
    "            latitude_values.append(-1*float(i.replace('S',\"\")))\n",
    "        else:\n",
    "            i.replace(\" \",\"\")\n",
    "            # print(i.isspace())\n",
    "            latitude_values.append(float(i.replace('N',\"\")))\n",
    "            \n",
    "list_dataframes= []\n",
    "\n",
    "for i in range(0,len(df_list_M)):\n",
    "    d = pd.DataFrame({\n",
    "        'latitude': latitude_values,\n",
    "        'longitude': longitude_values,\n",
    "        'u_speed': (df_list_Z[i].flatten()),\n",
    "        'v_speed': (df_list_M[i].flatten()),\n",
    "    })\n",
    "    list_dataframes.append(d)\n",
    "\n",
    "\n",
    "    "
   ]
  },
  {
   "cell_type": "code",
   "execution_count": 17,
   "metadata": {},
   "outputs": [],
   "source": [
    "i=0\n",
    "for d in list_dataframes:\n",
    "# Create a figure and axis with a global map projection\n",
    "    fig = plt.figure(figsize=(30, 30))\n",
    "    ax = plt.axes(projection=ccrs.PlateCarree())\n",
    "\n",
    "    ax.xaxis.set_major_locator(plt.MultipleLocator(10))  # Control the number of major gridlines on the x-axis\n",
    "    ax.yaxis.set_major_locator(plt.MultipleLocator(10))\n",
    "    # ax.quiver(d['longitude'], d['latitude'], d['u_speed'], d['v_speed'],color='orange')\n",
    "    # ax.quiver(d['longitude'], d['latitude'], d['u_speed'], d['v_speed'],scale=250,color='green')\n",
    "    strm = ax.streamplot(d['longitude'], d['latitude'], d['u_speed'], d['v_speed'], density=10, linewidth=1, color='blue')\n",
    "    ax.set_aspect('equal')\n",
    "    ax.coastlines()\n",
    "    ax.gridlines(draw_labels=True)\n",
    "    x_min = +70\n",
    "    x_max = 80\n",
    "    y_min = 0\n",
    "    y_max = 35\n",
    "    \n",
    "    plt.xlim(x_min, x_max)\n",
    "    plt.ylim(y_min, y_max)\n",
    "    \n",
    "    # plt.show()\n",
    "    plt.savefig(f'../Images/quiver_streamline/Streamline_Fig{i}',bbox_inches =\"tight\")\n",
    "    i+=1\n",
    "\n"
   ]
  },
  {
   "cell_type": "code",
   "execution_count": null,
   "metadata": {},
   "outputs": [
    {
     "name": "stdout",
     "output_type": "stream",
     "text": [
      "['../Images/quiver_streamline/Streamline_Fig0.png', '../Images/quiver_streamline/Streamline_Fig1.png', '../Images/quiver_streamline/Streamline_Fig2.png', '../Images/quiver_streamline/Streamline_Fig3.png', '../Images/quiver_streamline/Streamline_Fig4.png', '../Images/quiver_streamline/Streamline_Fig5.png']\n"
     ]
    },
    {
     "data": {
      "image/png": "[encoded data removed]",
      "text/plain": [
       "<Figure size 640x480 with 1 Axes>"
      ]
     },
     "metadata": {},
     "output_type": "display_data"
    }
   ],
   "source": [
    "files = glob.glob(\"../Images/quiver_streamline/Streamline*.png\")\n",
    "files.sort()\n",
    "print(files)\n",
    "image_array = []\n",
    "for my_file in files:\n",
    "    \n",
    "    image = Image.open(my_file)\n",
    "    image_array.append(image)\n",
    "\n",
    "# print('image_arrays shape:', np.array(image_array).shape)\n",
    "\n",
    "\n",
    "fig, ax = plt.subplots()\n",
    "ax.axis('off')  # Hide the axis\n",
    "ax.set_frame_on(False)\n",
    "# Set the initial image\n",
    "im = ax.imshow(image_array[0],animated=True)\n",
    "\n"
   ]
  },
  {
   "cell_type": "code",
   "execution_count": null,
   "metadata": {},
   "outputs": [],
   "source": [
    "def update(i):\n",
    "    im.set_array(image_array[i])\n",
    "    return im, "
   ]
  },
  {
   "cell_type": "code",
   "execution_count": null,
   "metadata": {},
   "outputs": [
    {
     "name": "stderr",
     "output_type": "stream",
     "text": [
      "MovieWriter ffmpeg unavailable; using Pillow instead.\n"
     ]
    }
   ],
   "source": [
    "animation_fig = FuncAnimation(fig, update, frames=len(image_array), interval=200, blit=True,repeat_delay=10,)\n",
    "\n",
    "# Show the animation\n",
    "plt.show()\n",
    "animation_fig.save(\"../Images/quiver_streamline/animated_streamline.gif\")"
   ]
  },
  {
   "cell_type": "code",
   "execution_count": null,
   "metadata": {},
   "outputs": [],
   "source": []
  }
 ],
 "metadata": {
  "kernelspec": {
   "display_name": "base",
   "language": "python",
   "name": "python3"
  },
  "language_info": {
   "codemirror_mode": {
    "name": "ipython",
    "version": 3
   },
   "file_extension": ".py",
   "mimetype": "text/x-python",
   "name": "python",
   "nbconvert_exporter": "python",
   "pygments_lexer": "ipython3",
   "version": "3.11.3"
  }
 },
 "nbformat": 4,
 "nbformat_minor": 2
}
